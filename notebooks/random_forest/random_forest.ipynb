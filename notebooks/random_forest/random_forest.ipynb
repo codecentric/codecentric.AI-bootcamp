{
 "cells": [
  {
   "cell_type": "markdown",
   "metadata": {},
   "source": [
    "# codecentric.AI Bootcamp - Random Forests\n",
    "\n",
    "Hallo und herzlich Willkommen beim codecentric.AI Bootcamp.\n",
    "\n",
    "Dieses Notebook enthält Beispiele und Übungsaufgaben zu Random Forests.\n",
    "Eine theoretische Einführung in Random Forests gibt es in diesem [YouTube video](https://www.youtube.com/embed/ieF_QjVUNEQ)."
   ]
  },
  {
   "cell_type": "code",
   "execution_count": 1,
   "metadata": {},
   "outputs": [
    {
     "data": {
      "text/html": [
       "\n",
       "        <iframe\n",
       "            width=\"850\"\n",
       "            height=\"650\"\n",
       "            src=\"https://www.youtube.com/embed/ieF_QjVUNEQ\"\n",
       "            frameborder=\"0\"\n",
       "            allowfullscreen\n",
       "        ></iframe>\n",
       "        "
      ],
      "text/plain": [
       "<IPython.lib.display.IFrame at 0x7fef845e8470>"
      ]
     },
     "execution_count": 1,
     "metadata": {},
     "output_type": "execute_result"
    }
   ],
   "source": [
    "# lade Video\n",
    "from IPython.display import IFrame    \n",
    "IFrame('https://www.youtube.com/embed/ieF_QjVUNEQ', width=850, height=650)"
   ]
  },
  {
   "cell_type": "markdown",
   "metadata": {},
   "source": [
    "Zu diesem Notebook gibt es ebenfalls ein [Video](https://www.youtube.com/embed/7zeTynbPjkk), indem ich euch durch diese Beispiele durchführe."
   ]
  },
  {
   "cell_type": "code",
   "execution_count": 2,
   "metadata": {},
   "outputs": [
    {
     "data": {
      "text/html": [
       "\n",
       "        <iframe\n",
       "            width=\"850\"\n",
       "            height=\"650\"\n",
       "            src=\"https://www.youtube.com/embed/7zeTynbPjkk\"\n",
       "            frameborder=\"0\"\n",
       "            allowfullscreen\n",
       "        ></iframe>\n",
       "        "
      ],
      "text/plain": [
       "<IPython.lib.display.IFrame at 0x7fef879e8668>"
      ]
     },
     "execution_count": 2,
     "metadata": {},
     "output_type": "execute_result"
    }
   ],
   "source": [
    "# lade Video\n",
    "from IPython.display import IFrame    \n",
    "IFrame('https://www.youtube.com/embed/7zeTynbPjkk', width=850, height=650)"
   ]
  },
  {
   "cell_type": "markdown",
   "metadata": {},
   "source": [
    "## Bibliotheken\n",
    "\n",
    "Zunächst laden wir die grundlegenden Pakete, die wir für die Vorbereitung der Daten benötigten. Dazu gehören\n",
    "\n",
    "- numpy: NumPy ist das wichtigste Paket für maschinelles Lernen in Python, denn es bietet die nötigen Funktionen für die Arbeit mit Matrizen und n-dimensionalen Arrays, linearer Algebra, und mehr.\n",
    "- pandas: pandas erleichtert das Arbeiten mit Daten in Python.\n",
    "- matplotlib: Zum Erstellen von Grafiken und Abbildungen aus unseren Daten nutzen wir matplotlib. Den zusätzlichen Befehl `matplotlib inline` geben wir in unserem Juypter Notebook mit, damit wir die generierten Plots unterhalb des Code-Chunks sehen können."
   ]
  },
  {
   "cell_type": "code",
   "execution_count": 3,
   "metadata": {},
   "outputs": [],
   "source": [
    "import numpy as np\n",
    "import pandas as pd\n",
    "import matplotlib.pyplot as plt\n",
    "%matplotlib inline"
   ]
  },
  {
   "cell_type": "markdown",
   "metadata": {},
   "source": [
    "## Daten einlesen und vorbereiten\n",
    "\n",
    "Random Forest ist einer von vielen Machine Learning Algorithmen des überwachten Lernens,\n",
    "im Englischen \"supervised learning\" genannt.\n",
    "\n",
    "Bei überwachtem Lernen nutzen wir sogenannte gelabelte Trainingsdaten.\n",
    "Das bedeutet, dass wir für jeden unseren Datenpunkte ein bekanntes Ergebnis als\n",
    "Zielgröße haben. Die Maschine lernt nun also dieses bekannte Ergebnis möglichst gut mit\n",
    "den vorhandenen Daten abzubilden - sie lernt quasi die optimale mathematische \n",
    "Repräsentation der Daten um mit möglichst hoher Genauigkeit auf die Zielgröße zu kommen.\n",
    "Die gelernte mathematische Repräsentation kann dann auf neue - ungelabelte - Daten\n",
    "angewandt werden und so für Vorhersagen genutzt werden.\n",
    "\n",
    "Das Scikit-learn Paket beinhaltet eine Reihe von Datensätzen, die wir direkt einladen und nutzen können. Eine Übersicht über die enthaltenen Datensätze ist hier zu finden: http://scikit-learn.org/stable/datasets/index.html\n",
    "\n",
    "Hier wollen wir einen Datensatz über Weinqualität nutzen, um zu zeigen, wie man mit Scikit-learn Random Forest Modelle trainiert. Dafür laden wir zunächst das Paket `sklearn.datasets` und daraus die `load_wine` Funktion."
   ]
  },
  {
   "cell_type": "code",
   "execution_count": 4,
   "metadata": {},
   "outputs": [],
   "source": [
    "from sklearn.datasets import load_wine"
   ]
  },
  {
   "cell_type": "markdown",
   "metadata": {},
   "source": [
    "Die `load_wine` Funktion gehört zu den \"dataset loaders\" und wird genutzt, um kleinere Datensätze (wie unseren hier) zu laden. Die `dir` Funktion zeigt uns welche Attribute unser Objekt hat."
   ]
  },
  {
   "cell_type": "code",
   "execution_count": 5,
   "metadata": {},
   "outputs": [
    {
     "data": {
      "text/plain": [
       "['DESCR', 'data', 'feature_names', 'target', 'target_names']"
      ]
     },
     "execution_count": 5,
     "metadata": {},
     "output_type": "execute_result"
    }
   ],
   "source": [
    "data = load_wine()\n",
    "dir(data)"
   ]
  },
  {
   "cell_type": "markdown",
   "metadata": {},
   "source": [
    "Diese Attribute können wir aufrufen, um spezielle Informationen unseres Objektes zu bekommen. Als erstes wollen wir uns die Beschreibung des Objektes und der Daten ansehen; dafür rufen wir `data.DESCR` auf und lassen es mit dem `print` Befehl ausgeben.\n",
    "\n",
    "Hier sehen wir nun, wie viele Instanzen wir haben und wie sich diese auf die Klassen verteilen, wie viele Attribute (im Machine Learning nennen wir diese Variablen auch Feature) wir haben und welche das sind. Auch über unsere Antwortvariable (auch Target, Klasse oder Label genannt) bekommen wir Informationen. Darüber hinaus erhalten wir zusammenfassende Statistiken, wie kleinste (Min) und größte (Max) Werte pro Feature, Mittelwert (Mean) und Standardabweichung (standard deviation = SD), Informationen über fehlende Werte, Klassenverteilungen und Autoren mit Veröffentlichungen."
   ]
  },
  {
   "cell_type": "code",
   "execution_count": 6,
   "metadata": {},
   "outputs": [
    {
     "name": "stdout",
     "output_type": "stream",
     "text": [
      ".. _wine_dataset:\n",
      "\n",
      "Wine recognition dataset\n",
      "------------------------\n",
      "\n",
      "**Data Set Characteristics:**\n",
      "\n",
      "    :Number of Instances: 178 (50 in each of three classes)\n",
      "    :Number of Attributes: 13 numeric, predictive attributes and the class\n",
      "    :Attribute Information:\n",
      " \t\t- Alcohol\n",
      " \t\t- Malic acid\n",
      " \t\t- Ash\n",
      "\t\t- Alcalinity of ash  \n",
      " \t\t- Magnesium\n",
      "\t\t- Total phenols\n",
      " \t\t- Flavanoids\n",
      " \t\t- Nonflavanoid phenols\n",
      " \t\t- Proanthocyanins\n",
      "\t\t- Color intensity\n",
      " \t\t- Hue\n",
      " \t\t- OD280/OD315 of diluted wines\n",
      " \t\t- Proline\n",
      "\n",
      "    - class:\n",
      "            - class_0\n",
      "            - class_1\n",
      "            - class_2\n",
      "\t\t\n",
      "    :Summary Statistics:\n",
      "    \n",
      "    ============================= ==== ===== ======= =====\n",
      "                                   Min   Max   Mean     SD\n",
      "    ============================= ==== ===== ======= =====\n",
      "    Alcohol:                      11.0  14.8    13.0   0.8\n",
      "    Malic Acid:                   0.74  5.80    2.34  1.12\n",
      "    Ash:                          1.36  3.23    2.36  0.27\n",
      "    Alcalinity of Ash:            10.6  30.0    19.5   3.3\n",
      "    Magnesium:                    70.0 162.0    99.7  14.3\n",
      "    Total Phenols:                0.98  3.88    2.29  0.63\n",
      "    Flavanoids:                   0.34  5.08    2.03  1.00\n",
      "    Nonflavanoid Phenols:         0.13  0.66    0.36  0.12\n",
      "    Proanthocyanins:              0.41  3.58    1.59  0.57\n",
      "    Colour Intensity:              1.3  13.0     5.1   2.3\n",
      "    Hue:                          0.48  1.71    0.96  0.23\n",
      "    OD280/OD315 of diluted wines: 1.27  4.00    2.61  0.71\n",
      "    Proline:                       278  1680     746   315\n",
      "    ============================= ==== ===== ======= =====\n",
      "\n",
      "    :Missing Attribute Values: None\n",
      "    :Class Distribution: class_0 (59), class_1 (71), class_2 (48)\n",
      "    :Creator: R.A. Fisher\n",
      "    :Donor: Michael Marshall (MARSHALL%PLU@io.arc.nasa.gov)\n",
      "    :Date: July, 1988\n",
      "\n",
      "This is a copy of UCI ML Wine recognition datasets.\n",
      "https://archive.ics.uci.edu/ml/machine-learning-databases/wine/wine.data\n",
      "\n",
      "The data is the results of a chemical analysis of wines grown in the same\n",
      "region in Italy by three different cultivators. There are thirteen different\n",
      "measurements taken for different constituents found in the three types of\n",
      "wine.\n",
      "\n",
      "Original Owners: \n",
      "\n",
      "Forina, M. et al, PARVUS - \n",
      "An Extendible Package for Data Exploration, Classification and Correlation. \n",
      "Institute of Pharmaceutical and Food Analysis and Technologies,\n",
      "Via Brigata Salerno, 16147 Genoa, Italy.\n",
      "\n",
      "Citation:\n",
      "\n",
      "Lichman, M. (2013). UCI Machine Learning Repository\n",
      "[http://archive.ics.uci.edu/ml]. Irvine, CA: University of California,\n",
      "School of Information and Computer Science. \n",
      "\n",
      ".. topic:: References\n",
      "\n",
      "  (1) S. Aeberhard, D. Coomans and O. de Vel, \n",
      "  Comparison of Classifiers in High Dimensional Settings, \n",
      "  Tech. Rep. no. 92-02, (1992), Dept. of Computer Science and Dept. of  \n",
      "  Mathematics and Statistics, James Cook University of North Queensland. \n",
      "  (Also submitted to Technometrics). \n",
      "\n",
      "  The data was used with many others for comparing various \n",
      "  classifiers. The classes are separable, though only RDA \n",
      "  has achieved 100% correct classification. \n",
      "  (RDA : 100%, QDA 99.4%, LDA 98.9%, 1NN 96.1% (z-transformed data)) \n",
      "  (All results using the leave-one-out technique) \n",
      "\n",
      "  (2) S. Aeberhard, D. Coomans and O. de Vel, \n",
      "  \"THE CLASSIFICATION PERFORMANCE OF RDA\" \n",
      "  Tech. Rep. no. 92-01, (1992), Dept. of Computer Science and Dept. of \n",
      "  Mathematics and Statistics, James Cook University of North Queensland. \n",
      "  (Also submitted to Journal of Chemometrics).\n",
      "\n"
     ]
    }
   ],
   "source": [
    "print(data.DESCR)"
   ]
  },
  {
   "cell_type": "markdown",
   "metadata": {},
   "source": [
    "Die Namen der Featurespalten erhalten wir mit `data.feature_names`."
   ]
  },
  {
   "cell_type": "code",
   "execution_count": 7,
   "metadata": {},
   "outputs": [
    {
     "data": {
      "text/plain": [
       "['alcohol',\n",
       " 'malic_acid',\n",
       " 'ash',\n",
       " 'alcalinity_of_ash',\n",
       " 'magnesium',\n",
       " 'total_phenols',\n",
       " 'flavanoids',\n",
       " 'nonflavanoid_phenols',\n",
       " 'proanthocyanins',\n",
       " 'color_intensity',\n",
       " 'hue',\n",
       " 'od280/od315_of_diluted_wines',\n",
       " 'proline']"
      ]
     },
     "execution_count": 7,
     "metadata": {},
     "output_type": "execute_result"
    }
   ],
   "source": [
    "data.feature_names"
   ]
  },
  {
   "cell_type": "markdown",
   "metadata": {},
   "source": [
    "Die tatsächlichen Daten (also die Werte für Instanzen und Feature) sind in `data.data` zu finden. Mit der `type` Funktion können wir heraus bekommen, welches Format unsere Daten haben. In diesem Fall handelt es sich um einen NumPy Array."
   ]
  },
  {
   "cell_type": "code",
   "execution_count": 8,
   "metadata": {},
   "outputs": [
    {
     "data": {
      "text/plain": [
       "numpy.ndarray"
      ]
     },
     "execution_count": 8,
     "metadata": {},
     "output_type": "execute_result"
    }
   ],
   "source": [
    "type(data.data)"
   ]
  },
  {
   "cell_type": "markdown",
   "metadata": {},
   "source": [
    "Für viele Anwendungsfälle kann es sinnvoll oder nötig sein, die Daten in ein pandas DataFrame umzuwandeln. Hier brauche wir das zwar nicht aber mit der folgenden Funktion könnten wir dies tun:"
   ]
  },
  {
   "cell_type": "code",
   "execution_count": 9,
   "metadata": {},
   "outputs": [
    {
     "data": {
      "text/html": [
       "<div>\n",
       "<style scoped>\n",
       "    .dataframe tbody tr th:only-of-type {\n",
       "        vertical-align: middle;\n",
       "    }\n",
       "\n",
       "    .dataframe tbody tr th {\n",
       "        vertical-align: top;\n",
       "    }\n",
       "\n",
       "    .dataframe thead th {\n",
       "        text-align: right;\n",
       "    }\n",
       "</style>\n",
       "<table border=\"1\" class=\"dataframe\">\n",
       "  <thead>\n",
       "    <tr style=\"text-align: right;\">\n",
       "      <th></th>\n",
       "      <th>alcohol</th>\n",
       "      <th>malic_acid</th>\n",
       "      <th>ash</th>\n",
       "      <th>alcalinity_of_ash</th>\n",
       "      <th>magnesium</th>\n",
       "      <th>total_phenols</th>\n",
       "      <th>flavanoids</th>\n",
       "      <th>nonflavanoid_phenols</th>\n",
       "      <th>proanthocyanins</th>\n",
       "      <th>color_intensity</th>\n",
       "      <th>hue</th>\n",
       "      <th>od280/od315_of_diluted_wines</th>\n",
       "      <th>proline</th>\n",
       "    </tr>\n",
       "  </thead>\n",
       "  <tbody>\n",
       "    <tr>\n",
       "      <th>0</th>\n",
       "      <td>14.23</td>\n",
       "      <td>1.71</td>\n",
       "      <td>2.43</td>\n",
       "      <td>15.6</td>\n",
       "      <td>127.0</td>\n",
       "      <td>2.80</td>\n",
       "      <td>3.06</td>\n",
       "      <td>0.28</td>\n",
       "      <td>2.29</td>\n",
       "      <td>5.64</td>\n",
       "      <td>1.04</td>\n",
       "      <td>3.92</td>\n",
       "      <td>1065.0</td>\n",
       "    </tr>\n",
       "    <tr>\n",
       "      <th>1</th>\n",
       "      <td>13.20</td>\n",
       "      <td>1.78</td>\n",
       "      <td>2.14</td>\n",
       "      <td>11.2</td>\n",
       "      <td>100.0</td>\n",
       "      <td>2.65</td>\n",
       "      <td>2.76</td>\n",
       "      <td>0.26</td>\n",
       "      <td>1.28</td>\n",
       "      <td>4.38</td>\n",
       "      <td>1.05</td>\n",
       "      <td>3.40</td>\n",
       "      <td>1050.0</td>\n",
       "    </tr>\n",
       "    <tr>\n",
       "      <th>2</th>\n",
       "      <td>13.16</td>\n",
       "      <td>2.36</td>\n",
       "      <td>2.67</td>\n",
       "      <td>18.6</td>\n",
       "      <td>101.0</td>\n",
       "      <td>2.80</td>\n",
       "      <td>3.24</td>\n",
       "      <td>0.30</td>\n",
       "      <td>2.81</td>\n",
       "      <td>5.68</td>\n",
       "      <td>1.03</td>\n",
       "      <td>3.17</td>\n",
       "      <td>1185.0</td>\n",
       "    </tr>\n",
       "    <tr>\n",
       "      <th>3</th>\n",
       "      <td>14.37</td>\n",
       "      <td>1.95</td>\n",
       "      <td>2.50</td>\n",
       "      <td>16.8</td>\n",
       "      <td>113.0</td>\n",
       "      <td>3.85</td>\n",
       "      <td>3.49</td>\n",
       "      <td>0.24</td>\n",
       "      <td>2.18</td>\n",
       "      <td>7.80</td>\n",
       "      <td>0.86</td>\n",
       "      <td>3.45</td>\n",
       "      <td>1480.0</td>\n",
       "    </tr>\n",
       "    <tr>\n",
       "      <th>4</th>\n",
       "      <td>13.24</td>\n",
       "      <td>2.59</td>\n",
       "      <td>2.87</td>\n",
       "      <td>21.0</td>\n",
       "      <td>118.0</td>\n",
       "      <td>2.80</td>\n",
       "      <td>2.69</td>\n",
       "      <td>0.39</td>\n",
       "      <td>1.82</td>\n",
       "      <td>4.32</td>\n",
       "      <td>1.04</td>\n",
       "      <td>2.93</td>\n",
       "      <td>735.0</td>\n",
       "    </tr>\n",
       "  </tbody>\n",
       "</table>\n",
       "</div>"
      ],
      "text/plain": [
       "   alcohol  malic_acid   ash  alcalinity_of_ash  magnesium  total_phenols  \\\n",
       "0    14.23        1.71  2.43               15.6      127.0           2.80   \n",
       "1    13.20        1.78  2.14               11.2      100.0           2.65   \n",
       "2    13.16        2.36  2.67               18.6      101.0           2.80   \n",
       "3    14.37        1.95  2.50               16.8      113.0           3.85   \n",
       "4    13.24        2.59  2.87               21.0      118.0           2.80   \n",
       "\n",
       "   flavanoids  nonflavanoid_phenols  proanthocyanins  color_intensity   hue  \\\n",
       "0        3.06                  0.28             2.29             5.64  1.04   \n",
       "1        2.76                  0.26             1.28             4.38  1.05   \n",
       "2        3.24                  0.30             2.81             5.68  1.03   \n",
       "3        3.49                  0.24             2.18             7.80  0.86   \n",
       "4        2.69                  0.39             1.82             4.32  1.04   \n",
       "\n",
       "   od280/od315_of_diluted_wines  proline  \n",
       "0                          3.92   1065.0  \n",
       "1                          3.40   1050.0  \n",
       "2                          3.17   1185.0  \n",
       "3                          3.45   1480.0  \n",
       "4                          2.93    735.0  "
      ]
     },
     "execution_count": 9,
     "metadata": {},
     "output_type": "execute_result"
    }
   ],
   "source": [
    "df = pd.DataFrame(data.data, columns=data.feature_names)\n",
    "df.head()"
   ]
  },
  {
   "cell_type": "markdown",
   "metadata": {},
   "source": [
    "Stattdessen nutzen wir nochmal die `load_wine` Funktion, um die Daten in einem etwas anderen Format einzulesen, dass uns einen Arbeitsschritt für Scikit-learn erspart. Wenn wir `return_X_y=True` setzen, bekommen wir zwei getrennte Objekte zurück:\n",
    "\n",
    "1. Nur die Feature\n",
    "2. Nur Target/Antwortvariable"
   ]
  },
  {
   "cell_type": "code",
   "execution_count": 10,
   "metadata": {},
   "outputs": [
    {
     "name": "stdout",
     "output_type": "stream",
     "text": [
      "[[1.423e+01 1.710e+00 2.430e+00 ... 1.040e+00 3.920e+00 1.065e+03]\n",
      " [1.320e+01 1.780e+00 2.140e+00 ... 1.050e+00 3.400e+00 1.050e+03]\n",
      " [1.316e+01 2.360e+00 2.670e+00 ... 1.030e+00 3.170e+00 1.185e+03]\n",
      " ...\n",
      " [1.327e+01 4.280e+00 2.260e+00 ... 5.900e-01 1.560e+00 8.350e+02]\n",
      " [1.317e+01 2.590e+00 2.370e+00 ... 6.000e-01 1.620e+00 8.400e+02]\n",
      " [1.413e+01 4.100e+00 2.740e+00 ... 6.100e-01 1.600e+00 5.600e+02]]\n",
      "[0 0 0 0 0 0 0 0 0 0 0 0 0 0 0 0 0 0 0 0 0 0 0 0 0 0 0 0 0 0 0 0 0 0 0 0 0\n",
      " 0 0 0 0 0 0 0 0 0 0 0 0 0 0 0 0 0 0 0 0 0 0 1 1 1 1 1 1 1 1 1 1 1 1 1 1 1\n",
      " 1 1 1 1 1 1 1 1 1 1 1 1 1 1 1 1 1 1 1 1 1 1 1 1 1 1 1 1 1 1 1 1 1 1 1 1 1\n",
      " 1 1 1 1 1 1 1 1 1 1 1 1 1 1 1 1 1 1 1 2 2 2 2 2 2 2 2 2 2 2 2 2 2 2 2 2 2\n",
      " 2 2 2 2 2 2 2 2 2 2 2 2 2 2 2 2 2 2 2 2 2 2 2 2 2 2 2 2 2 2]\n"
     ]
    }
   ],
   "source": [
    "features, target = load_wine(return_X_y=True)\n",
    "print(features)\n",
    "print(target)"
   ]
  },
  {
   "cell_type": "markdown",
   "metadata": {},
   "source": [
    "## Trainings- und Testsets\n",
    "\n",
    "Als nächstes wollen wir unsere Daten in Trainings- und Testsets aufteilen. Dafür gibt es in `sklearn.model_selection` die `train_test_split` Funktion. Die laden wir wieder ein und geben ihr folgende Argumente mit:\n",
    "\n",
    "- `features`: die Featurewerte\n",
    "- `target`: die Antwortvariable\n",
    "- `test_size`: wie viele der Daten in das Testset sollen (hier 30%)\n",
    "- `random_state`: Seed für die Pseudozufallsgenerierung von Nummern\n",
    "- `stratify`: optional, hier sollen Trainings- und Testset die gleichen Proportionen der Klassenverteilungen in unserer Antwortvariablen haben\n",
    "\n",
    "Mit der Hilfefunktion \"?Funktionsname\" erhalten wir Informationen über die jeweilige Funktion, ihre Argumente und Anwendungsbeispiele, z.B. `?train_test_split`."
   ]
  },
  {
   "cell_type": "code",
   "execution_count": 11,
   "metadata": {},
   "outputs": [],
   "source": [
    "from sklearn.model_selection import train_test_split\n",
    "\n",
    "X_train, X_test, y_train, y_test = train_test_split(features, \n",
    "                                                    target,\n",
    "                                                    test_size = 0.30,\n",
    "                                                    random_state = 42,\n",
    "                                                    stratify = target)"
   ]
  },
  {
   "cell_type": "markdown",
   "metadata": {},
   "source": [
    "Der Output von `train_test_split` sind vier Objekte:\n",
    "\n",
    "- `X_train`: Featurewerte für alle Trainingsinstanzen\n",
    "- `X_test`: Featurewerte für alle Testinstanzen\n",
    "- `y_train`: Label/Klassen für alle Trainingsinstanzen\n",
    "- `y_test`: Label/Klassen für alle Testinstanzen\n",
    "\n",
    "\n",
    "Wir haben nun 124 Instanzen im Trainingsset und 54 im Testset."
   ]
  },
  {
   "cell_type": "code",
   "execution_count": 12,
   "metadata": {},
   "outputs": [
    {
     "name": "stdout",
     "output_type": "stream",
     "text": [
      "Anzahl Instanzen im Trainingsset: 124\n",
      "Anzahl Instanzen im Testset: 54\n"
     ]
    }
   ],
   "source": [
    "print('Anzahl Instanzen im Trainingsset:', len(y_train))\n",
    "print('Anzahl Instanzen im Testset:',len(y_test))"
   ]
  },
  {
   "cell_type": "markdown",
   "metadata": {},
   "source": [
    "## Scikit-learn\n",
    "\n",
    "[Scikit-learn](http://scikit-learn.org/stable/) ist eine Machine Learning Bibliothek für Python, die das Trainieren von vielen verschiedenen Algorithmen für Klassifikation, Regression, Clustering, und mehr sehr einfach macht. Hier wollen wir Scikit-learn nutzen, um Entscheidungsbäume und Random Forsets zu trainieren."
   ]
  },
  {
   "cell_type": "markdown",
   "metadata": {},
   "source": [
    "### Entscheidungsbäume\n",
    "\n",
    "Random Forest basiert auf Entscheidungsbäumen. Entscheidungsbäume im Machine Learning sind ebenfalls Algorithmen, die genutzt werden können, um Klassifikations- und Regressionsaufgaben zu lernen. Hier seht ihr ein Beispiel für einen einfachen Entscheidungsbaum. Wir nennen diese Methode Entscheidungs**baum** weil die gelernten Regeln mehreren \"wenn... dann...\" Entscheidungen folgen, an denen die Variablen aufgeteilt werden - ähnlich wie die Verzweigungen eines Astes.\n",
    "\n",
    "Wir starten nun also mit einem Feature, dass zum Beispiel zufällig ausgewählt wurde. Für dieses Feature wird nun anhand des gesamten Trainingsdatensatzes der optimale Grenzwert gefunden, an dem wir die Verästelung vornehmen. Wäre unser Feature zum Beispiel \"Alter\", könnte der Grenzwert bei 30 liegen. Alle Datenpunkte, die ein Alter größer als 30 haben folgen jetzt dem linken Ast, alle anderen dem rechten. Danach folgen für alle folgenden Äste weitere Verästelungen, bis wir an einem Endepunkt angekommen sind. Diese Endpunkte werden auch Blätter genannt und repräsentieren das Ergebnis - im Falle einer Klassifikationsaufgabe wäre das die vorhergesagte Klasse.\n",
    "\n",
    "Entscheidungsbäume lernen also binäre Entscheidungsregeln, die einer logischen Abfolge entsprechen. Das macht sie für uns Menschen sehr intuitiv nachvollziehbar und leicht zu verstehen.\n",
    "\n",
    "In Scikit-learn gibt es den `DecisionTreeClassifier`, mit dem wir einzelne Entscheidungsbäume trainieren können. Wir definieren dafür erst einen Learner (hier `tree` mit Default Argumenten) und wenden darauf dann die `fit` Funktion an. Die einfachste mögliche Art `fit` zu verwenden ist nur mit `X_train` (den Featuren der Trainingsdaten) und `y_train` (den Labeln/Klassen)."
   ]
  },
  {
   "cell_type": "code",
   "execution_count": 13,
   "metadata": {},
   "outputs": [
    {
     "data": {
      "text/plain": [
       "DecisionTreeClassifier(class_weight=None, criterion='gini', max_depth=None,\n",
       "            max_features=None, max_leaf_nodes=None,\n",
       "            min_impurity_decrease=0.0, min_impurity_split=None,\n",
       "            min_samples_leaf=1, min_samples_split=2,\n",
       "            min_weight_fraction_leaf=0.0, presort=False, random_state=None,\n",
       "            splitter='best')"
      ]
     },
     "execution_count": 13,
     "metadata": {},
     "output_type": "execute_result"
    }
   ],
   "source": [
    "from sklearn.tree import DecisionTreeClassifier\n",
    "\n",
    "tree = DecisionTreeClassifier()\n",
    "tree.fit(X_train, y_train)"
   ]
  },
  {
   "cell_type": "markdown",
   "metadata": {},
   "source": [
    "Die bisher nicht genutzen Testdaten können wir jetzt überprüfen, indem wir sie mit der `predict` Funktion klassifizieren lassen."
   ]
  },
  {
   "cell_type": "code",
   "execution_count": 14,
   "metadata": {},
   "outputs": [],
   "source": [
    "y_pred = tree.predict(X_test)"
   ]
  },
  {
   "cell_type": "markdown",
   "metadata": {},
   "source": [
    "Diese vorhergesagten Klassen können wir nun mit den tatsächlichen Klassen abgleichen, um heraus zu bekommen wie gut unser Entscheidungsbaum gelernt hat. Dafür können wir zum Bespiel eine Kreuzmatrix mit der `confusion_matrix` Funktion verwenden. Um die Darstellung schöner zu machen, konvertiere ich die Kreuzmatrix hier in ein pandas DataFrame und definiere Reihen- und Spaltennamen."
   ]
  },
  {
   "cell_type": "code",
   "execution_count": 15,
   "metadata": {},
   "outputs": [
    {
     "data": {
      "text/html": [
       "<div>\n",
       "<style scoped>\n",
       "    .dataframe tbody tr th:only-of-type {\n",
       "        vertical-align: middle;\n",
       "    }\n",
       "\n",
       "    .dataframe tbody tr th {\n",
       "        vertical-align: top;\n",
       "    }\n",
       "\n",
       "    .dataframe thead th {\n",
       "        text-align: right;\n",
       "    }\n",
       "</style>\n",
       "<table border=\"1\" class=\"dataframe\">\n",
       "  <thead>\n",
       "    <tr style=\"text-align: right;\">\n",
       "      <th></th>\n",
       "      <th>pred:0</th>\n",
       "      <th>pred:1</th>\n",
       "      <th>pred:2</th>\n",
       "    </tr>\n",
       "  </thead>\n",
       "  <tbody>\n",
       "    <tr>\n",
       "      <th>true:0</th>\n",
       "      <td>17</td>\n",
       "      <td>1</td>\n",
       "      <td>0</td>\n",
       "    </tr>\n",
       "    <tr>\n",
       "      <th>true:1</th>\n",
       "      <td>2</td>\n",
       "      <td>19</td>\n",
       "      <td>0</td>\n",
       "    </tr>\n",
       "    <tr>\n",
       "      <th>true:2</th>\n",
       "      <td>0</td>\n",
       "      <td>0</td>\n",
       "      <td>15</td>\n",
       "    </tr>\n",
       "  </tbody>\n",
       "</table>\n",
       "</div>"
      ],
      "text/plain": [
       "        pred:0  pred:1  pred:2\n",
       "true:0      17       1       0\n",
       "true:1       2      19       0\n",
       "true:2       0       0      15"
      ]
     },
     "execution_count": 15,
     "metadata": {},
     "output_type": "execute_result"
    }
   ],
   "source": [
    "from sklearn.metrics import confusion_matrix\n",
    "\n",
    "unique_label = np.unique(y_test)\n",
    "pd.DataFrame(confusion_matrix(y_test, y_pred, labels=unique_label), \n",
    "                   index=['true:{:}'.format(x) for x in unique_label], \n",
    "                   columns=['pred:{:}'.format(x) for x in unique_label])"
   ]
  },
  {
   "cell_type": "markdown",
   "metadata": {},
   "source": [
    "Einzelne Entscheidungsbäume sind allerdings nicht sehr robust und führen sehr leicht zu Overfitting. Das bedeutet, dass sie zwar die mathematischen Regeln für einen Trainingsdatensatz sehr genau lernen können, sie sind aber häufig nicht in der Lage allgemeingültige Regeln abzuleiten, die auf neue Daten angewandt werden können.\n",
    "Random Forests sind hier besser, denn sie basieren auf den gesammelten Vorhersagen von vielen Entscheidungsbäumen.\n",
    "\n",
    "Einfach dargestellt, werden viele verschiedene Entscheidungsbäume auf dem selben Trainingsdatensatz berechnet. Das Endergebnis ergibt sich dann aus den Ergebnissen der einzelnen Bäume."
   ]
  },
  {
   "cell_type": "markdown",
   "metadata": {},
   "source": [
    "### Bagging\n",
    "\n",
    "Was Random Forests besser macht sind vor allem zwei Tricks: zum einen wird bei jeder Verästelung nur eine zufällige Teilmenge der Feature in Betracht gezogen. Das hilft, den Einfluss von stark korrelierten Featuren zu verringern. Der zweite Trick besteht darin, wie die Ergebnisse der einzelnen Entscheidungsbäume zu einem gemeinsamen Endergebnis kombiniert werden.\n",
    "\n",
    "Im Wesentlichen gibt es zwei Methoden, um Entscheidungsbäume zu kombinieren. Das ist einmal das sogenannten Bagging oder Bootstrap Aggregierung. Bei dieser Methode werden zufällige Teilmengen der Daten genommen, um die einzelnen Bäume zu trainieren. Dabei kann das Sampling der Daten mit oder ohne Zurücklegen passieren. Ein großer Vorteil dieser Methode ist, dass die einzelnen Entscheidungsbäume parallel trainiert werden können, so dass diese Methode sehr schnell und effektiv ist. Bei Random Forest wird in der Regel die Bagging-Methode verwendet.\n",
    "Das Endergebnis ergibt sich dann entweder aus dem Durchschnitt der Ergebnisse der einzelnen Bäume oder wird durch Mehrheitsvotum bestimmt.\n",
    "\n",
    "In Scikit-learn gibt es den `BaggingClassifier`,  mit dem wir eine Anzahl von Entscheidungsbäumen trainieren und mit der Baggingmethode kombinieren können. Dafür geben wir der Funktion ein paar Hyperparameter mit:\n",
    "\n",
    "- `base_estimator`: definiert die Entscheidungsbäume, die genutzt werden sollen (hier der Default `DecisionTreeClassifier` von oben)\n",
    "- `n_estimators`: Anzahl der zu kombinierenden Bäume\n",
    "- `max_samples`: Anzahl der Instanzen, die für das Training der einzelnen Entscheidungsbäume zufällig aus dem Trainingsset gesampelt werden sollen (hier 80%)\n",
    "\n",
    "Außerdem definieren wir wieder einen Random Seed `random_state`. Zusätzliche Argumente und Hyperparameter sind in der Hilfe gelistet (aufzurufen mit `?BaggingClassifier`)."
   ]
  },
  {
   "cell_type": "code",
   "execution_count": 16,
   "metadata": {},
   "outputs": [
    {
     "data": {
      "text/plain": [
       "BaggingClassifier(base_estimator=DecisionTreeClassifier(class_weight=None, criterion='gini', max_depth=None,\n",
       "            max_features=None, max_leaf_nodes=None,\n",
       "            min_impurity_decrease=0.0, min_impurity_split=None,\n",
       "            min_samples_leaf=1, min_samples_split=2,\n",
       "            min_weight_fraction_leaf=0.0, presort=False, random_state=None,\n",
       "            splitter='best'),\n",
       "         bootstrap=True, bootstrap_features=False, max_features=1.0,\n",
       "         max_samples=0.8, n_estimators=100, n_jobs=None, oob_score=False,\n",
       "         random_state=42, verbose=0, warm_start=False)"
      ]
     },
     "execution_count": 16,
     "metadata": {},
     "output_type": "execute_result"
    }
   ],
   "source": [
    "from sklearn.ensemble import BaggingClassifier\n",
    "\n",
    "bag = BaggingClassifier(base_estimator = tree, \n",
    "                        n_estimators = 100, \n",
    "                        max_samples = 0.8, \n",
    "                        random_state = 42)\n",
    "bag.fit(X_train, y_train)"
   ]
  },
  {
   "cell_type": "markdown",
   "metadata": {},
   "source": [
    "Dieses trainierte Modell kann wieder für Vorhersagen auf neuen oder Testdaten verwendet werden."
   ]
  },
  {
   "cell_type": "code",
   "execution_count": 17,
   "metadata": {},
   "outputs": [
    {
     "data": {
      "text/html": [
       "<div>\n",
       "<style scoped>\n",
       "    .dataframe tbody tr th:only-of-type {\n",
       "        vertical-align: middle;\n",
       "    }\n",
       "\n",
       "    .dataframe tbody tr th {\n",
       "        vertical-align: top;\n",
       "    }\n",
       "\n",
       "    .dataframe thead th {\n",
       "        text-align: right;\n",
       "    }\n",
       "</style>\n",
       "<table border=\"1\" class=\"dataframe\">\n",
       "  <thead>\n",
       "    <tr style=\"text-align: right;\">\n",
       "      <th></th>\n",
       "      <th>pred:0</th>\n",
       "      <th>pred:1</th>\n",
       "      <th>pred:2</th>\n",
       "    </tr>\n",
       "  </thead>\n",
       "  <tbody>\n",
       "    <tr>\n",
       "      <th>true:0</th>\n",
       "      <td>18</td>\n",
       "      <td>0</td>\n",
       "      <td>0</td>\n",
       "    </tr>\n",
       "    <tr>\n",
       "      <th>true:1</th>\n",
       "      <td>0</td>\n",
       "      <td>21</td>\n",
       "      <td>0</td>\n",
       "    </tr>\n",
       "    <tr>\n",
       "      <th>true:2</th>\n",
       "      <td>0</td>\n",
       "      <td>0</td>\n",
       "      <td>15</td>\n",
       "    </tr>\n",
       "  </tbody>\n",
       "</table>\n",
       "</div>"
      ],
      "text/plain": [
       "        pred:0  pred:1  pred:2\n",
       "true:0      18       0       0\n",
       "true:1       0      21       0\n",
       "true:2       0       0      15"
      ]
     },
     "execution_count": 17,
     "metadata": {},
     "output_type": "execute_result"
    }
   ],
   "source": [
    "y_pred_bag = bag.predict(X_test)\n",
    "\n",
    "unique_label = np.unique(y_test)\n",
    "pd.DataFrame(confusion_matrix(y_test, y_pred_bag, labels=unique_label), \n",
    "                   index=['true:{:}'.format(x) for x in unique_label], \n",
    "                   columns=['pred:{:}'.format(x) for x in unique_label])"
   ]
  },
  {
   "cell_type": "markdown",
   "metadata": {},
   "source": [
    "### Random Forests\n",
    "\n",
    "Mit Scikit-learn können wir auch sehr einfach Klassifikations- und Regressionsmodelle direkt mit dem Random Forest Algorithmus trainieren. \n",
    "\n",
    "Die Vorteile von Random Forests sind vor allem die Schnelligkeit, weil das Training parallelisiert durchgeführt werden kann. Viele Aufgaben können mit Random Forests mit recht guter Genauigkeit gelöst werden, so dass wir recht flexibel mit diesem Algorithmus sind. Außerdem bekommen wir als Ergebnis Vorhersagewahrscheinlichkeiten, die uns helfen die Ergebnisse besser einzuschätzen.\n",
    "\n",
    "Nachteile sind vor allem, dass Random Forests zum Overfitting neigen und vor allem bei stark unbalancierten Daten Probleme haben, die unterrepräsentierte Klasse zu lernen. Und - wie die meisten anderen Machine Learning Algorithmen auch - sind Random Forests Blackbox-Modelle, das heißt, die Entscheidungen sind nicht mehr im Detail nachzuvollziehen.\n",
    "\n",
    "Je nachdem ob unser bekanntes Ergebnis einer Einteilung in Gruppen, bzw. Klassen entspricht\n",
    "oder die Zielgröße kontinuierliche Werte darstellen, sprechen wir von Klassifikation\n",
    "oder Regression. Random Forest kann für beides genutzt werden.\n",
    "\n",
    "#### Klassifikation\n",
    "\n",
    "Wenn wir mit Scikit-learn eine Klassifikation durchführen wollen, können wir den `RandomForestClassifier` verwenden. Das Prinzp folgt analog zum `DecisionTreeClassifier` und `BaggingClassifier` von oben:\n",
    "\n",
    "1. Definition des Algorithmus (hier `RandomForestClassifier` mit Anzahl zu trainierender Bäume)\n",
    "2. Trainieren des Modell mit `fit`\n",
    "3. Evaluieren auf Testdaten"
   ]
  },
  {
   "cell_type": "code",
   "execution_count": 18,
   "metadata": {},
   "outputs": [
    {
     "data": {
      "text/plain": [
       "RandomForestClassifier(bootstrap=True, class_weight=None, criterion='gini',\n",
       "            max_depth=None, max_features='auto', max_leaf_nodes=None,\n",
       "            min_impurity_decrease=0.0, min_impurity_split=None,\n",
       "            min_samples_leaf=1, min_samples_split=2,\n",
       "            min_weight_fraction_leaf=0.0, n_estimators=100, n_jobs=None,\n",
       "            oob_score=False, random_state=42, verbose=0, warm_start=False)"
      ]
     },
     "execution_count": 18,
     "metadata": {},
     "output_type": "execute_result"
    }
   ],
   "source": [
    "from sklearn.ensemble import RandomForestClassifier\n",
    "\n",
    "rf_model = RandomForestClassifier(n_estimators = 100, random_state = 42)\n",
    "rf_model.fit(X_train, y_train)"
   ]
  },
  {
   "cell_type": "markdown",
   "metadata": {},
   "source": [
    "Für das Vorhersagen von neuen Daten können wir wieder wie zuvor die `predict` Funktion mit `confusion_matrix` verwenden."
   ]
  },
  {
   "cell_type": "code",
   "execution_count": 19,
   "metadata": {},
   "outputs": [
    {
     "data": {
      "text/html": [
       "<div>\n",
       "<style scoped>\n",
       "    .dataframe tbody tr th:only-of-type {\n",
       "        vertical-align: middle;\n",
       "    }\n",
       "\n",
       "    .dataframe tbody tr th {\n",
       "        vertical-align: top;\n",
       "    }\n",
       "\n",
       "    .dataframe thead th {\n",
       "        text-align: right;\n",
       "    }\n",
       "</style>\n",
       "<table border=\"1\" class=\"dataframe\">\n",
       "  <thead>\n",
       "    <tr style=\"text-align: right;\">\n",
       "      <th></th>\n",
       "      <th>pred:0</th>\n",
       "      <th>pred:1</th>\n",
       "      <th>pred:2</th>\n",
       "    </tr>\n",
       "  </thead>\n",
       "  <tbody>\n",
       "    <tr>\n",
       "      <th>true:0</th>\n",
       "      <td>18</td>\n",
       "      <td>0</td>\n",
       "      <td>0</td>\n",
       "    </tr>\n",
       "    <tr>\n",
       "      <th>true:1</th>\n",
       "      <td>0</td>\n",
       "      <td>21</td>\n",
       "      <td>0</td>\n",
       "    </tr>\n",
       "    <tr>\n",
       "      <th>true:2</th>\n",
       "      <td>0</td>\n",
       "      <td>0</td>\n",
       "      <td>15</td>\n",
       "    </tr>\n",
       "  </tbody>\n",
       "</table>\n",
       "</div>"
      ],
      "text/plain": [
       "        pred:0  pred:1  pred:2\n",
       "true:0      18       0       0\n",
       "true:1       0      21       0\n",
       "true:2       0       0      15"
      ]
     },
     "execution_count": 19,
     "metadata": {},
     "output_type": "execute_result"
    }
   ],
   "source": [
    "y_pred_rf = rf_model.predict(X_test)\n",
    "\n",
    "unique_label = np.unique(y_test)\n",
    "pd.DataFrame(confusion_matrix(y_test, y_pred_rf, labels=unique_label), \n",
    "                   index=['true:{:}'.format(x) for x in unique_label], \n",
    "                   columns=['pred:{:}'.format(x) for x in unique_label])"
   ]
  },
  {
   "cell_type": "markdown",
   "metadata": {},
   "source": [
    "Per Default gibt uns die `predict` Funktion Klassenlabel aus, wir können uns aber auch Vorhersagewahrscheinlichkeiten ausgeben lassen. Dafür gibt es die `predict_proba` Funktion:"
   ]
  },
  {
   "cell_type": "code",
   "execution_count": 20,
   "metadata": {},
   "outputs": [
    {
     "data": {
      "text/plain": [
       "array([[0.95, 0.03, 0.02],\n",
       "       [0.01, 0.97, 0.02],\n",
       "       [1.  , 0.  , 0.  ],\n",
       "       [0.98, 0.02, 0.  ],\n",
       "       [0.81, 0.19, 0.  ],\n",
       "       [0.98, 0.02, 0.  ],\n",
       "       [0.01, 0.04, 0.95],\n",
       "       [0.  , 1.  , 0.  ],\n",
       "       [0.24, 0.67, 0.09],\n",
       "       [0.06, 0.23, 0.71]])"
      ]
     },
     "execution_count": 20,
     "metadata": {},
     "output_type": "execute_result"
    }
   ],
   "source": [
    "rf_model.predict_proba(X_test)[0:10]"
   ]
  },
  {
   "cell_type": "markdown",
   "metadata": {},
   "source": [
    "Weitere Möglichkeiten, um die Performance eines Modells in Scikit-learn zu bewerten sind [hier](http://scikit-learn.org/stable/modules/model_evaluation.html) aufgezählt."
   ]
  },
  {
   "cell_type": "markdown",
   "metadata": {},
   "source": [
    "#### Regression\n",
    "\n",
    "Der Weindatensatz ist eigentlich für Klassifikationsprobleme gedacht, denn wir wollen die Weinqualität in eine von drei möglichen Klassen eingeteilt vorhersagen. Unser Antwortvariable ist also kategorisch.\n",
    "\n",
    "Wir könnten Random Forests aber auch verwenden, wenn unsere Antwortvariable numerisch wäre - wir würden dann keine Klassen, sondern numerische Werte vorhersagen. Dafür würden wir den `RandomForestRegressor` verwenden. Die Random Forest Funktionen `RandomForestClassifier` und `RandomForestRegressor` konvertieren die Antwortvariable `y_train` automatisch in das entsprechende Format.\n",
    "\n",
    "Die `predict` Funktion gibt bei einem Regressionsmodell dann entprechend numerische Werte zurück."
   ]
  },
  {
   "cell_type": "code",
   "execution_count": 21,
   "metadata": {},
   "outputs": [
    {
     "name": "stdout",
     "output_type": "stream",
     "text": [
      "[0.   1.   0.   0.   0.07 0.   2.   1.   0.96 1.86 1.45 0.95 1.99 0.99\n",
      " 0.   2.   0.97 0.55 1.8  1.98 1.01 1.83 1.98 1.67 1.09 2.   0.02 0.73\n",
      " 0.   0.88 0.69 0.86 1.9  0.99 0.96 2.   1.11 1.03 1.02 0.2  1.98 0.\n",
      " 0.   0.   0.   1.08 1.   0.   1.95 0.27 1.01 1.02 2.   0.  ]\n"
     ]
    }
   ],
   "source": [
    "from sklearn.ensemble import RandomForestRegressor\n",
    "\n",
    "rf_reg_model = RandomForestRegressor(n_estimators = 100, random_state = 42)\n",
    "rf_reg_model.fit(X_train, y_train)\n",
    "y_pred_rf_reg = rf_reg_model.predict(X_test)\n",
    "print(y_pred_rf_reg)"
   ]
  },
  {
   "cell_type": "markdown",
   "metadata": {},
   "source": [
    "Anstelle von Kreuzmatrizen können wir für Regressionsmodelle andere Metriken verwenden, z.B. den mittleren Fehler oder die Wurzel daraus, den Logloss, absoluten Fehler oder andere. Eine Liste ist [hier](http://scikit-learn.org/stable/modules/model_evaluation.html) zu finden.\n",
    "\n",
    "Hier verwenden wir z.B. den mittleren Fehler:"
   ]
  },
  {
   "cell_type": "code",
   "execution_count": 22,
   "metadata": {},
   "outputs": [
    {
     "data": {
      "text/plain": [
       "0.02690185185185185"
      ]
     },
     "execution_count": 22,
     "metadata": {},
     "output_type": "execute_result"
    }
   ],
   "source": [
    "from sklearn.metrics import mean_squared_error\n",
    "\n",
    "mean_squared_error(y_test, y_pred_rf_reg)"
   ]
  },
  {
   "cell_type": "markdown",
   "metadata": {},
   "source": [
    "Wir können Vorhersage gegen Wirklichkeit auch graphisch darstellen, z.B. als Scatterplot:"
   ]
  },
  {
   "cell_type": "code",
   "execution_count": 23,
   "metadata": {},
   "outputs": [
    {
     "data": {
      "text/plain": [
       "<matplotlib.collections.PathCollection at 0x7fef3d371e10>"
      ]
     },
     "execution_count": 23,
     "metadata": {},
     "output_type": "execute_result"
    },
    {
     "data": {
      "image/png": "[encoded data removed]",
      "text/plain": [
       "<Figure size 432x288 with 1 Axes>"
      ]
     },
     "metadata": {
      "needs_background": "light"
     },
     "output_type": "display_data"
    }
   ],
   "source": [
    "plt.scatter(y_test, y_pred_rf_reg)"
   ]
  },
  {
   "cell_type": "markdown",
   "metadata": {},
   "source": [
    "Wir können uns auch einzelne Entscheidungsbäume als Baum darstellen lassen. Dafür gibt es die `export_graphviz` Funktion und das pydot Paket.\n",
    "\n",
    "Mit `rf_reg_model.estimators_[index]` können wir einzelne Bäume unseres Modell extrahieren und als .dot Datei exportieren."
   ]
  },
  {
   "cell_type": "code",
   "execution_count": 24,
   "metadata": {},
   "outputs": [],
   "source": [
    "from sklearn.tree import export_graphviz\n",
    "import pydot\n",
    "\n",
    "# 5. Baum extrahieren\n",
    "tree_est = rf_reg_model.estimators_[5]\n",
    "\n",
    "# In .dot exportieren\n",
    "export_graphviz(tree_est, out_file = 'tree.dot', feature_names = data.feature_names, rounded = True, precision = 1)"
   ]
  },
  {
   "cell_type": "markdown",
   "metadata": {},
   "source": [
    "Diese .dot Datei können wir z.B. auf http://www.webgraphviz.com/ visualisieren."
   ]
  },
  {
   "cell_type": "markdown",
   "metadata": {},
   "source": [
    "## H2O\n",
    "\n",
    "[H2O](https://www.h2o.ai/) ist eine beliebte Open-Source Machine Learning Plattform, mit der man ebenfalls sehr einfach und schnell Random Forests trainieren und tunen kann.\n",
    "\n",
    "Im Unterschied zu Scikit-learn läuft H2O auf Clustern mit einem Java Backend. Wir können unser Cluster lokal starten oder z.B. mit Spark, Hadoop oder anderen Umgebungen. Je nachdem, wie rechenintensiv unsere Modelle sind, können wir durch das Nutzen von mehreren Clustern und Knoten eine deutlich schnellere Trainingszeit erreichen als mit Scikit-learn.\n",
    "\n",
    "Zunächst importieren wir die h2o Bibliothek und starten das Cluster. Mit `nthreads = -1` werden alle Kerne einer Machine genutzt."
   ]
  },
  {
   "cell_type": "code",
   "execution_count": 25,
   "metadata": {},
   "outputs": [
    {
     "name": "stdout",
     "output_type": "stream",
     "text": [
      "Checking whether there is an H2O instance running at http://localhost:54321..... not found.\n",
      "Attempting to start a local H2O server...\n",
      "  Java Version: openjdk version \"1.8.0_181\"; OpenJDK Runtime Environment (build 1.8.0_181-8u181-b13-2~deb9u1-b13); OpenJDK 64-Bit Server VM (build 25.181-b13, mixed mode)\n",
      "  Starting server from /usr/local/lib/python3.6/site-packages/h2o/backend/bin/h2o.jar\n",
      "  Ice root: /tmp/tmpqrx_n48r\n",
      "  JVM stdout: /tmp/tmpqrx_n48r/h2o_unknownUser_started_from_python.out\n",
      "  JVM stderr: /tmp/tmpqrx_n48r/h2o_unknownUser_started_from_python.err\n",
      "  Server is running at http://127.0.0.1:54321\n",
      "Connecting to H2O server at http://127.0.0.1:54321... successful.\n"
     ]
    },
    {
     "data": {
      "text/html": [
       "<div style=\"overflow:auto\"><table style=\"width:50%\"><tr><td>H2O cluster uptime:</td>\n",
       "<td>02 secs</td></tr>\n",
       "<tr><td>H2O cluster timezone:</td>\n",
       "<td>Etc/UTC</td></tr>\n",
       "<tr><td>H2O data parsing timezone:</td>\n",
       "<td>UTC</td></tr>\n",
       "<tr><td>H2O cluster version:</td>\n",
       "<td>3.22.0.2</td></tr>\n",
       "<tr><td>H2O cluster version age:</td>\n",
       "<td>11 days </td></tr>\n",
       "<tr><td>H2O cluster name:</td>\n",
       "<td>H2O_from_python_unknownUser_tmtdop</td></tr>\n",
       "<tr><td>H2O cluster total nodes:</td>\n",
       "<td>1</td></tr>\n",
       "<tr><td>H2O cluster free memory:</td>\n",
       "<td>444.5 Mb</td></tr>\n",
       "<tr><td>H2O cluster total cores:</td>\n",
       "<td>4</td></tr>\n",
       "<tr><td>H2O cluster allowed cores:</td>\n",
       "<td>4</td></tr>\n",
       "<tr><td>H2O cluster status:</td>\n",
       "<td>accepting new members, healthy</td></tr>\n",
       "<tr><td>H2O connection url:</td>\n",
       "<td>http://127.0.0.1:54321</td></tr>\n",
       "<tr><td>H2O connection proxy:</td>\n",
       "<td>None</td></tr>\n",
       "<tr><td>H2O internal security:</td>\n",
       "<td>False</td></tr>\n",
       "<tr><td>H2O API Extensions:</td>\n",
       "<td>XGBoost, Algos, AutoML, Core V3, Core V4</td></tr>\n",
       "<tr><td>Python version:</td>\n",
       "<td>3.6.7 final</td></tr></table></div>"
      ],
      "text/plain": [
       "--------------------------  ----------------------------------------\n",
       "H2O cluster uptime:         02 secs\n",
       "H2O cluster timezone:       Etc/UTC\n",
       "H2O data parsing timezone:  UTC\n",
       "H2O cluster version:        3.22.0.2\n",
       "H2O cluster version age:    11 days\n",
       "H2O cluster name:           H2O_from_python_unknownUser_tmtdop\n",
       "H2O cluster total nodes:    1\n",
       "H2O cluster free memory:    444.5 Mb\n",
       "H2O cluster total cores:    4\n",
       "H2O cluster allowed cores:  4\n",
       "H2O cluster status:         accepting new members, healthy\n",
       "H2O connection url:         http://127.0.0.1:54321\n",
       "H2O connection proxy:\n",
       "H2O internal security:      False\n",
       "H2O API Extensions:         XGBoost, Algos, AutoML, Core V3, Core V4\n",
       "Python version:             3.6.7 final\n",
       "--------------------------  ----------------------------------------"
      ]
     },
     "metadata": {},
     "output_type": "display_data"
    }
   ],
   "source": [
    "import h2o\n",
    "h2o.init(nthreads = -1)"
   ]
  },
  {
   "cell_type": "markdown",
   "metadata": {},
   "source": [
    "In h2o gibt es auch wieder [mehrere Algorithmen](http://docs.h2o.ai/h2o/latest-stable/h2o-docs/data-science.html), die zum Trainieren von Modellen genutzt werden können. Für h2o ist das die `H2ORandomForestEstimator` Funktion."
   ]
  },
  {
   "cell_type": "code",
   "execution_count": 26,
   "metadata": {},
   "outputs": [],
   "source": [
    "from h2o.estimators.random_forest import H2ORandomForestEstimator"
   ]
  },
  {
   "cell_type": "markdown",
   "metadata": {},
   "source": [
    "Dieses Mal starten wir mit dem pandas DataFrame `df`, das wir zu Anfang aus dem numpy Array generiert haben:"
   ]
  },
  {
   "cell_type": "code",
   "execution_count": 27,
   "metadata": {},
   "outputs": [
    {
     "data": {
      "text/html": [
       "<div>\n",
       "<style scoped>\n",
       "    .dataframe tbody tr th:only-of-type {\n",
       "        vertical-align: middle;\n",
       "    }\n",
       "\n",
       "    .dataframe tbody tr th {\n",
       "        vertical-align: top;\n",
       "    }\n",
       "\n",
       "    .dataframe thead th {\n",
       "        text-align: right;\n",
       "    }\n",
       "</style>\n",
       "<table border=\"1\" class=\"dataframe\">\n",
       "  <thead>\n",
       "    <tr style=\"text-align: right;\">\n",
       "      <th></th>\n",
       "      <th>alcohol</th>\n",
       "      <th>malic_acid</th>\n",
       "      <th>ash</th>\n",
       "      <th>alcalinity_of_ash</th>\n",
       "      <th>magnesium</th>\n",
       "      <th>total_phenols</th>\n",
       "      <th>flavanoids</th>\n",
       "      <th>nonflavanoid_phenols</th>\n",
       "      <th>proanthocyanins</th>\n",
       "      <th>color_intensity</th>\n",
       "      <th>hue</th>\n",
       "      <th>od280/od315_of_diluted_wines</th>\n",
       "      <th>proline</th>\n",
       "    </tr>\n",
       "  </thead>\n",
       "  <tbody>\n",
       "    <tr>\n",
       "      <th>0</th>\n",
       "      <td>14.23</td>\n",
       "      <td>1.71</td>\n",
       "      <td>2.43</td>\n",
       "      <td>15.6</td>\n",
       "      <td>127.0</td>\n",
       "      <td>2.80</td>\n",
       "      <td>3.06</td>\n",
       "      <td>0.28</td>\n",
       "      <td>2.29</td>\n",
       "      <td>5.64</td>\n",
       "      <td>1.04</td>\n",
       "      <td>3.92</td>\n",
       "      <td>1065.0</td>\n",
       "    </tr>\n",
       "    <tr>\n",
       "      <th>1</th>\n",
       "      <td>13.20</td>\n",
       "      <td>1.78</td>\n",
       "      <td>2.14</td>\n",
       "      <td>11.2</td>\n",
       "      <td>100.0</td>\n",
       "      <td>2.65</td>\n",
       "      <td>2.76</td>\n",
       "      <td>0.26</td>\n",
       "      <td>1.28</td>\n",
       "      <td>4.38</td>\n",
       "      <td>1.05</td>\n",
       "      <td>3.40</td>\n",
       "      <td>1050.0</td>\n",
       "    </tr>\n",
       "    <tr>\n",
       "      <th>2</th>\n",
       "      <td>13.16</td>\n",
       "      <td>2.36</td>\n",
       "      <td>2.67</td>\n",
       "      <td>18.6</td>\n",
       "      <td>101.0</td>\n",
       "      <td>2.80</td>\n",
       "      <td>3.24</td>\n",
       "      <td>0.30</td>\n",
       "      <td>2.81</td>\n",
       "      <td>5.68</td>\n",
       "      <td>1.03</td>\n",
       "      <td>3.17</td>\n",
       "      <td>1185.0</td>\n",
       "    </tr>\n",
       "    <tr>\n",
       "      <th>3</th>\n",
       "      <td>14.37</td>\n",
       "      <td>1.95</td>\n",
       "      <td>2.50</td>\n",
       "      <td>16.8</td>\n",
       "      <td>113.0</td>\n",
       "      <td>3.85</td>\n",
       "      <td>3.49</td>\n",
       "      <td>0.24</td>\n",
       "      <td>2.18</td>\n",
       "      <td>7.80</td>\n",
       "      <td>0.86</td>\n",
       "      <td>3.45</td>\n",
       "      <td>1480.0</td>\n",
       "    </tr>\n",
       "    <tr>\n",
       "      <th>4</th>\n",
       "      <td>13.24</td>\n",
       "      <td>2.59</td>\n",
       "      <td>2.87</td>\n",
       "      <td>21.0</td>\n",
       "      <td>118.0</td>\n",
       "      <td>2.80</td>\n",
       "      <td>2.69</td>\n",
       "      <td>0.39</td>\n",
       "      <td>1.82</td>\n",
       "      <td>4.32</td>\n",
       "      <td>1.04</td>\n",
       "      <td>2.93</td>\n",
       "      <td>735.0</td>\n",
       "    </tr>\n",
       "  </tbody>\n",
       "</table>\n",
       "</div>"
      ],
      "text/plain": [
       "   alcohol  malic_acid   ash  alcalinity_of_ash  magnesium  total_phenols  \\\n",
       "0    14.23        1.71  2.43               15.6      127.0           2.80   \n",
       "1    13.20        1.78  2.14               11.2      100.0           2.65   \n",
       "2    13.16        2.36  2.67               18.6      101.0           2.80   \n",
       "3    14.37        1.95  2.50               16.8      113.0           3.85   \n",
       "4    13.24        2.59  2.87               21.0      118.0           2.80   \n",
       "\n",
       "   flavanoids  nonflavanoid_phenols  proanthocyanins  color_intensity   hue  \\\n",
       "0        3.06                  0.28             2.29             5.64  1.04   \n",
       "1        2.76                  0.26             1.28             4.38  1.05   \n",
       "2        3.24                  0.30             2.81             5.68  1.03   \n",
       "3        3.49                  0.24             2.18             7.80  0.86   \n",
       "4        2.69                  0.39             1.82             4.32  1.04   \n",
       "\n",
       "   od280/od315_of_diluted_wines  proline  \n",
       "0                          3.92   1065.0  \n",
       "1                          3.40   1050.0  \n",
       "2                          3.17   1185.0  \n",
       "3                          3.45   1480.0  \n",
       "4                          2.93    735.0  "
      ]
     },
     "execution_count": 27,
     "metadata": {},
     "output_type": "execute_result"
    }
   ],
   "source": [
    "df.head()"
   ]
  },
  {
   "cell_type": "markdown",
   "metadata": {},
   "source": [
    "Dieses DataFrame enthält bisher nur die Feature, darum kombiniere ich es hier mit der Antwortvariablen, indem ich diese ebenfalls in ein pandas DataFrame schreibe und die Spalten dieser beiden DataFrame mit `pd.concat` verbinde. Die erste Spalte `class` enthält jetzt also die vorherzusagenden Klassen."
   ]
  },
  {
   "cell_type": "code",
   "execution_count": 28,
   "metadata": {},
   "outputs": [
    {
     "data": {
      "text/html": [
       "<div>\n",
       "<style scoped>\n",
       "    .dataframe tbody tr th:only-of-type {\n",
       "        vertical-align: middle;\n",
       "    }\n",
       "\n",
       "    .dataframe tbody tr th {\n",
       "        vertical-align: top;\n",
       "    }\n",
       "\n",
       "    .dataframe thead th {\n",
       "        text-align: right;\n",
       "    }\n",
       "</style>\n",
       "<table border=\"1\" class=\"dataframe\">\n",
       "  <thead>\n",
       "    <tr style=\"text-align: right;\">\n",
       "      <th></th>\n",
       "      <th>class</th>\n",
       "      <th>alcohol</th>\n",
       "      <th>malic_acid</th>\n",
       "      <th>ash</th>\n",
       "      <th>alcalinity_of_ash</th>\n",
       "      <th>magnesium</th>\n",
       "      <th>total_phenols</th>\n",
       "      <th>flavanoids</th>\n",
       "      <th>nonflavanoid_phenols</th>\n",
       "      <th>proanthocyanins</th>\n",
       "      <th>color_intensity</th>\n",
       "      <th>hue</th>\n",
       "      <th>od280/od315_of_diluted_wines</th>\n",
       "      <th>proline</th>\n",
       "    </tr>\n",
       "  </thead>\n",
       "  <tbody>\n",
       "    <tr>\n",
       "      <th>0</th>\n",
       "      <td>0</td>\n",
       "      <td>14.23</td>\n",
       "      <td>1.71</td>\n",
       "      <td>2.43</td>\n",
       "      <td>15.6</td>\n",
       "      <td>127.0</td>\n",
       "      <td>2.80</td>\n",
       "      <td>3.06</td>\n",
       "      <td>0.28</td>\n",
       "      <td>2.29</td>\n",
       "      <td>5.64</td>\n",
       "      <td>1.04</td>\n",
       "      <td>3.92</td>\n",
       "      <td>1065.0</td>\n",
       "    </tr>\n",
       "    <tr>\n",
       "      <th>1</th>\n",
       "      <td>0</td>\n",
       "      <td>13.20</td>\n",
       "      <td>1.78</td>\n",
       "      <td>2.14</td>\n",
       "      <td>11.2</td>\n",
       "      <td>100.0</td>\n",
       "      <td>2.65</td>\n",
       "      <td>2.76</td>\n",
       "      <td>0.26</td>\n",
       "      <td>1.28</td>\n",
       "      <td>4.38</td>\n",
       "      <td>1.05</td>\n",
       "      <td>3.40</td>\n",
       "      <td>1050.0</td>\n",
       "    </tr>\n",
       "    <tr>\n",
       "      <th>2</th>\n",
       "      <td>0</td>\n",
       "      <td>13.16</td>\n",
       "      <td>2.36</td>\n",
       "      <td>2.67</td>\n",
       "      <td>18.6</td>\n",
       "      <td>101.0</td>\n",
       "      <td>2.80</td>\n",
       "      <td>3.24</td>\n",
       "      <td>0.30</td>\n",
       "      <td>2.81</td>\n",
       "      <td>5.68</td>\n",
       "      <td>1.03</td>\n",
       "      <td>3.17</td>\n",
       "      <td>1185.0</td>\n",
       "    </tr>\n",
       "    <tr>\n",
       "      <th>3</th>\n",
       "      <td>0</td>\n",
       "      <td>14.37</td>\n",
       "      <td>1.95</td>\n",
       "      <td>2.50</td>\n",
       "      <td>16.8</td>\n",
       "      <td>113.0</td>\n",
       "      <td>3.85</td>\n",
       "      <td>3.49</td>\n",
       "      <td>0.24</td>\n",
       "      <td>2.18</td>\n",
       "      <td>7.80</td>\n",
       "      <td>0.86</td>\n",
       "      <td>3.45</td>\n",
       "      <td>1480.0</td>\n",
       "    </tr>\n",
       "    <tr>\n",
       "      <th>4</th>\n",
       "      <td>0</td>\n",
       "      <td>13.24</td>\n",
       "      <td>2.59</td>\n",
       "      <td>2.87</td>\n",
       "      <td>21.0</td>\n",
       "      <td>118.0</td>\n",
       "      <td>2.80</td>\n",
       "      <td>2.69</td>\n",
       "      <td>0.39</td>\n",
       "      <td>1.82</td>\n",
       "      <td>4.32</td>\n",
       "      <td>1.04</td>\n",
       "      <td>2.93</td>\n",
       "      <td>735.0</td>\n",
       "    </tr>\n",
       "  </tbody>\n",
       "</table>\n",
       "</div>"
      ],
      "text/plain": [
       "   class  alcohol  malic_acid   ash  alcalinity_of_ash  magnesium  \\\n",
       "0      0    14.23        1.71  2.43               15.6      127.0   \n",
       "1      0    13.20        1.78  2.14               11.2      100.0   \n",
       "2      0    13.16        2.36  2.67               18.6      101.0   \n",
       "3      0    14.37        1.95  2.50               16.8      113.0   \n",
       "4      0    13.24        2.59  2.87               21.0      118.0   \n",
       "\n",
       "   total_phenols  flavanoids  nonflavanoid_phenols  proanthocyanins  \\\n",
       "0           2.80        3.06                  0.28             2.29   \n",
       "1           2.65        2.76                  0.26             1.28   \n",
       "2           2.80        3.24                  0.30             2.81   \n",
       "3           3.85        3.49                  0.24             2.18   \n",
       "4           2.80        2.69                  0.39             1.82   \n",
       "\n",
       "   color_intensity   hue  od280/od315_of_diluted_wines  proline  \n",
       "0             5.64  1.04                          3.92   1065.0  \n",
       "1             4.38  1.05                          3.40   1050.0  \n",
       "2             5.68  1.03                          3.17   1185.0  \n",
       "3             7.80  0.86                          3.45   1480.0  \n",
       "4             4.32  1.04                          2.93    735.0  "
      ]
     },
     "execution_count": 28,
     "metadata": {},
     "output_type": "execute_result"
    }
   ],
   "source": [
    "target = pd.DataFrame({'class':data.target})\n",
    "\n",
    "df_c = pd.concat([target, df], axis=1)\n",
    "df_c.head()"
   ]
  },
  {
   "cell_type": "markdown",
   "metadata": {},
   "source": [
    "Bevor wir mit h2o arbeiten können, müssen wir unsere Daten in ein H2O Frame konvertieren. Dafür gibt es die `h2o.H2OFrame` Funktion. Unsere Antwortvariable ist im Moment noch numerisch, h2o würde also eine Regression durchführen. Wir wollen aber eine Klassifikation trainieren, darum konvertiere ich die Variable mit `asfactor`. Mit `describe` bekommen wir eine umfangreiche Beschreibung der Daten."
   ]
  },
  {
   "cell_type": "code",
   "execution_count": 29,
   "metadata": {},
   "outputs": [
    {
     "name": "stdout",
     "output_type": "stream",
     "text": [
      "Parse progress: |█████████████████████████████████████████████████████████| 100%\n"
     ]
    },
    {
     "data": {
      "text/plain": [
       "[True]"
      ]
     },
     "execution_count": 29,
     "metadata": {},
     "output_type": "execute_result"
    }
   ],
   "source": [
    "hf = h2o.H2OFrame(df_c)\n",
    "hf[0] = hf[0].asfactor()  \n",
    "hf[0].isfactor()"
   ]
  },
  {
   "cell_type": "code",
   "execution_count": 30,
   "metadata": {},
   "outputs": [
    {
     "name": "stdout",
     "output_type": "stream",
     "text": [
      "Rows:178\n",
      "Cols:14\n",
      "\n",
      "\n"
     ]
    },
    {
     "data": {
      "text/html": [
       "<table>\n",
       "<thead>\n",
       "<tr><th>       </th><th>class  </th><th>alcohol           </th><th>malic_acid        </th><th>ash                </th><th>alcalinity_of_ash  </th><th>magnesium         </th><th>total_phenols     </th><th>flavanoids        </th><th>nonflavanoid_phenols  </th><th>proanthocyanins   </th><th>color_intensity  </th><th>hue                </th><th>od280/od315_of_diluted_wines  </th><th>proline          </th></tr>\n",
       "</thead>\n",
       "<tbody>\n",
       "<tr><td>type   </td><td>enum   </td><td>real              </td><td>real              </td><td>real               </td><td>real               </td><td>int               </td><td>real              </td><td>real              </td><td>real                  </td><td>real              </td><td>real             </td><td>real               </td><td>real                          </td><td>int              </td></tr>\n",
       "<tr><td>mins   </td><td>       </td><td>11.03             </td><td>0.74              </td><td>1.36               </td><td>10.6               </td><td>70.0              </td><td>0.98              </td><td>0.34              </td><td>0.13                  </td><td>0.41              </td><td>1.28             </td><td>0.48               </td><td>1.27                          </td><td>278.0            </td></tr>\n",
       "<tr><td>mean   </td><td>       </td><td>13.000617977528085</td><td>2.336348314606743 </td><td>2.366516853932584  </td><td>19.494943820224723 </td><td>99.74157303370781 </td><td>2.295112359550562 </td><td>2.0292696629213474</td><td>0.36185393258426946   </td><td>1.5908988764044947</td><td>5.058089882022471</td><td>0.9574494382022474 </td><td>2.6116853932584254            </td><td>746.8932584269659</td></tr>\n",
       "<tr><td>maxs   </td><td>       </td><td>14.83             </td><td>5.8               </td><td>3.23               </td><td>30.0               </td><td>162.0             </td><td>3.88              </td><td>5.08              </td><td>0.66                  </td><td>3.58              </td><td>13.0             </td><td>1.71               </td><td>4.0                           </td><td>1680.0           </td></tr>\n",
       "<tr><td>sigma  </td><td>       </td><td>0.811826538005858 </td><td>1.1171460976144625</td><td>0.27434400906081485</td><td>3.339563767173504  </td><td>14.282483515295652</td><td>0.6258510488339892</td><td>0.9988586850169471</td><td>0.12445334029667941   </td><td>0.5723588626747612</td><td>2.318285871822413</td><td>0.22857156582982327</td><td>0.7099904287650503            </td><td>314.9074742768492</td></tr>\n",
       "<tr><td>zeros  </td><td>       </td><td>0                 </td><td>0                 </td><td>0                  </td><td>0                  </td><td>0                 </td><td>0                 </td><td>0                 </td><td>0                     </td><td>0                 </td><td>0                </td><td>0                  </td><td>0                             </td><td>0                </td></tr>\n",
       "<tr><td>missing</td><td>0      </td><td>0                 </td><td>0                 </td><td>0                  </td><td>0                  </td><td>0                 </td><td>0                 </td><td>0                 </td><td>0                     </td><td>0                 </td><td>0                </td><td>0                  </td><td>0                             </td><td>0                </td></tr>\n",
       "<tr><td>0      </td><td>0      </td><td>14.23             </td><td>1.71              </td><td>2.43               </td><td>15.6               </td><td>127.0             </td><td>2.8               </td><td>3.06              </td><td>0.28                  </td><td>2.29              </td><td>5.64             </td><td>1.04               </td><td>3.92                          </td><td>1065.0           </td></tr>\n",
       "<tr><td>1      </td><td>0      </td><td>13.2              </td><td>1.78              </td><td>2.14               </td><td>11.2               </td><td>100.0             </td><td>2.65              </td><td>2.76              </td><td>0.26                  </td><td>1.28              </td><td>4.38             </td><td>1.05               </td><td>3.4                           </td><td>1050.0           </td></tr>\n",
       "<tr><td>2      </td><td>0      </td><td>13.16             </td><td>2.36              </td><td>2.67               </td><td>18.6               </td><td>101.0             </td><td>2.8               </td><td>3.24              </td><td>0.3                   </td><td>2.81              </td><td>5.68             </td><td>1.03               </td><td>3.17                          </td><td>1185.0           </td></tr>\n",
       "<tr><td>3      </td><td>0      </td><td>14.37             </td><td>1.95              </td><td>2.5                </td><td>16.8               </td><td>113.0             </td><td>3.85              </td><td>3.49              </td><td>0.24                  </td><td>2.18              </td><td>7.8              </td><td>0.86               </td><td>3.45                          </td><td>1480.0           </td></tr>\n",
       "<tr><td>4      </td><td>0      </td><td>13.24             </td><td>2.59              </td><td>2.87               </td><td>21.0               </td><td>118.0             </td><td>2.8               </td><td>2.69              </td><td>0.39                  </td><td>1.82              </td><td>4.32             </td><td>1.04               </td><td>2.93                          </td><td>735.0            </td></tr>\n",
       "<tr><td>5      </td><td>0      </td><td>14.2              </td><td>1.76              </td><td>2.45               </td><td>15.2               </td><td>112.0             </td><td>3.27              </td><td>3.39              </td><td>0.34                  </td><td>1.97              </td><td>6.75             </td><td>1.05               </td><td>2.85                          </td><td>1450.0           </td></tr>\n",
       "<tr><td>6      </td><td>0      </td><td>14.39             </td><td>1.87              </td><td>2.45               </td><td>14.6               </td><td>96.0              </td><td>2.5               </td><td>2.52              </td><td>0.3                   </td><td>1.98              </td><td>5.25             </td><td>1.02               </td><td>3.58                          </td><td>1290.0           </td></tr>\n",
       "<tr><td>7      </td><td>0      </td><td>14.06             </td><td>2.15              </td><td>2.61               </td><td>17.6               </td><td>121.0             </td><td>2.6               </td><td>2.51              </td><td>0.31                  </td><td>1.25              </td><td>5.05             </td><td>1.06               </td><td>3.58                          </td><td>1295.0           </td></tr>\n",
       "<tr><td>8      </td><td>0      </td><td>14.83             </td><td>1.64              </td><td>2.17               </td><td>14.0               </td><td>97.0              </td><td>2.8               </td><td>2.98              </td><td>0.29                  </td><td>1.98              </td><td>5.2              </td><td>1.08               </td><td>2.85                          </td><td>1045.0           </td></tr>\n",
       "<tr><td>9      </td><td>0      </td><td>13.86             </td><td>1.35              </td><td>2.27               </td><td>16.0               </td><td>98.0              </td><td>2.98              </td><td>3.15              </td><td>0.22                  </td><td>1.85              </td><td>7.22             </td><td>1.01               </td><td>3.55                          </td><td>1045.0           </td></tr>\n",
       "</tbody>\n",
       "</table>"
      ]
     },
     "metadata": {},
     "output_type": "display_data"
    }
   ],
   "source": [
    "hf.describe()"
   ]
  },
  {
   "cell_type": "markdown",
   "metadata": {},
   "source": [
    "Auch in h2o können wir unsere Daten sehr einfach in Trainings- und Testsets einteilen. Zu Demonstrationszwecken teile ich die Daten hier in drei Sets ein: Training, Validierung und Test. Bei der geringen Anzahl an Instanzen ist das aber eigentlich nicht sinnvoll - wir würden stattdessen Kreuzvalidierung verwenden.\n",
    "\n",
    "Die `split_frame` Funktion bekommt einen Vektor von Werten zwischen 0 und 1, die in Summe weniger als 1 sein müssen. Diese Werte stellen den Anteil der Daten für das Trainingsset (hier 70%), das Validierungsset (hier 15%) und das Testset (die verbleibenden 15%) dar. Die drei Datensets bekommen wir als separate Objekte zurück."
   ]
  },
  {
   "cell_type": "code",
   "execution_count": 31,
   "metadata": {},
   "outputs": [],
   "source": [
    "train, valid, test = hf.split_frame([0.7, 0.15], seed=42)"
   ]
  },
  {
   "cell_type": "markdown",
   "metadata": {},
   "source": [
    "Zur Vorbereitung definieren wir nun auch noch einen Vektor mit allen Featurenamen (Spaltennamen), die wir zum Trainieren verwenden wollen:"
   ]
  },
  {
   "cell_type": "code",
   "execution_count": 32,
   "metadata": {},
   "outputs": [
    {
     "data": {
      "text/plain": [
       "['alcohol',\n",
       " 'malic_acid',\n",
       " 'ash',\n",
       " 'alcalinity_of_ash',\n",
       " 'magnesium',\n",
       " 'total_phenols',\n",
       " 'flavanoids',\n",
       " 'nonflavanoid_phenols',\n",
       " 'proanthocyanins',\n",
       " 'color_intensity',\n",
       " 'hue',\n",
       " 'od280/od315_of_diluted_wines',\n",
       " 'proline']"
      ]
     },
     "execution_count": 32,
     "metadata": {},
     "output_type": "execute_result"
    }
   ],
   "source": [
    "hf_X = hf.col_names[1:len(hf.col_names)]\n",
    "hf_X"
   ]
  },
  {
   "cell_type": "markdown",
   "metadata": {},
   "source": [
    "Außerdem generieren wir noch einen mit der Antwortvariablen:"
   ]
  },
  {
   "cell_type": "code",
   "execution_count": 33,
   "metadata": {},
   "outputs": [
    {
     "data": {
      "text/plain": [
       "'class'"
      ]
     },
     "execution_count": 33,
     "metadata": {},
     "output_type": "execute_result"
    }
   ],
   "source": [
    "hf_y = hf.col_names[0]\n",
    "hf_y"
   ]
  },
  {
   "cell_type": "markdown",
   "metadata": {},
   "source": [
    "Nun können wir den `H2ORandomForestEstimator` definieren. Weitere Hyperparameter sind in der Funktionsbeschreibung unter http://docs.h2o.ai/h2o/latest-stable/h2o-docs/data-science/drf.html gelistet. Wenn wir in diese Liste gucken, sehen wir direkt, dass wir eine ganze Menge an Hyperparametern und zusätzlichen Optionen wählen können. Hier wählen wir ein paar:\n",
    "\n",
    "- `ntrees`: Anzahl Entscheidungsbäume\n",
    "- `max_depth`: Maximale Baumtiefe\n",
    "- `min_rows`: Minimale Anzahl an Instanzen pro Blatt\n",
    "\n",
    "Außerdem geben wir der Funktion noch Stopp-Kriterien mit, die angeben, wann das Training abgebrochen werden soll. Hier wollen wir das Training unterbrechen, wenn der mittlere Fehler pro Klasse `mean_per_class_error` 3x hintereinander nicht mindestens um 0.001 besser wird."
   ]
  },
  {
   "cell_type": "code",
   "execution_count": 34,
   "metadata": {},
   "outputs": [],
   "source": [
    "rf = H2ORandomForestEstimator(\n",
    "    ntrees = 200,\n",
    "    max_depth = 3,\n",
    "    min_rows = 5,\n",
    "    stopping_rounds = 3,\n",
    "    stopping_metric = 'mean_per_class_error',\n",
    "    stopping_tolerance = 1e-3,\n",
    "    seed = 42\n",
    ")"
   ]
  },
  {
   "cell_type": "markdown",
   "metadata": {},
   "source": [
    "Mit `train` erfolgt dann das eigentliche Traineren des Modells. Wenn wir mit einem Validierungsset arbeiten, wie hier, geben wir dieses neben dem Trainingsset an. Falls wir kein Validierungsset hätten und Kreuzvalidierung durchführen wollten, würden wir statt `validation_frame` die Argumente `nfolds` (Anzahl Folds) im H2ORandomForestEstimator setzen. Die Namen der Spalten für Feature und Antwortvariablen geben wir mit `x` und `y`."
   ]
  },
  {
   "cell_type": "code",
   "execution_count": 35,
   "metadata": {},
   "outputs": [
    {
     "name": "stdout",
     "output_type": "stream",
     "text": [
      "drf Model Build progress: |███████████████████████████████████████████████| 100%\n"
     ]
    }
   ],
   "source": [
    "rf.train(x = hf_X, \n",
    "         y = hf_y, \n",
    "         training_frame = train, \n",
    "         validation_frame = valid)"
   ]
  },
  {
   "cell_type": "markdown",
   "metadata": {},
   "source": [
    "Abbilden können wir die Entwicklung mehrerer Performance-Metriken auf Validierungsdaten über die Trainingszyklen mit `score_history` und matplotlib:"
   ]
  },
  {
   "cell_type": "code",
   "execution_count": 36,
   "metadata": {},
   "outputs": [
    {
     "data": {
      "text/plain": [
       "<matplotlib.axes._subplots.AxesSubplot at 0x7fef6aff2470>"
      ]
     },
     "execution_count": 36,
     "metadata": {},
     "output_type": "execute_result"
    },
    {
     "data": {
      "image/png": "[encoded data removed]",
      "text/plain": [
       "<Figure size 432x288 with 1 Axes>"
      ]
     },
     "metadata": {
      "needs_background": "light"
     },
     "output_type": "display_data"
    }
   ],
   "source": [
    "sh = rf.score_history()\n",
    "sh.plot()"
   ]
  },
  {
   "cell_type": "markdown",
   "metadata": {},
   "source": [
    "Eine Übersicht über die Performance unseres Modells auf den Testdaten erhalten wir mit der `model_performance` Funktion:"
   ]
  },
  {
   "cell_type": "code",
   "execution_count": 37,
   "metadata": {},
   "outputs": [
    {
     "name": "stdout",
     "output_type": "stream",
     "text": [
      "\n",
      "ModelMetricsMultinomial: drf\n",
      "** Reported on test data. **\n",
      "\n",
      "MSE: 0.0595180965487881\n",
      "RMSE: 0.24396330984143516\n",
      "LogLoss: 0.23992978191902167\n",
      "Mean Per-Class Error: 0.0\n",
      "Confusion Matrix: Row labels: Actual class; Column labels: Predicted class\n",
      "\n"
     ]
    },
    {
     "data": {
      "text/html": [
       "<div style=\"overflow:auto\"><table style=\"width:50%\"><tr><td><b>0</b></td>\n",
       "<td><b>1</b></td>\n",
       "<td><b>2</b></td>\n",
       "<td><b>Error</b></td>\n",
       "<td><b>Rate</b></td></tr>\n",
       "<tr><td>9.0</td>\n",
       "<td>0.0</td>\n",
       "<td>0.0</td>\n",
       "<td>0.0</td>\n",
       "<td>0 / 9</td></tr>\n",
       "<tr><td>0.0</td>\n",
       "<td>10.0</td>\n",
       "<td>0.0</td>\n",
       "<td>0.0</td>\n",
       "<td>0 / 10</td></tr>\n",
       "<tr><td>0.0</td>\n",
       "<td>0.0</td>\n",
       "<td>5.0</td>\n",
       "<td>0.0</td>\n",
       "<td>0 / 5</td></tr>\n",
       "<tr><td>9.0</td>\n",
       "<td>10.0</td>\n",
       "<td>5.0</td>\n",
       "<td>0.0</td>\n",
       "<td>0 / 24</td></tr></table></div>"
      ],
      "text/plain": [
       "0    1    2    Error    Rate\n",
       "---  ---  ---  -------  ------\n",
       "9    0    0    0        0 / 9\n",
       "0    10   0    0        0 / 10\n",
       "0    0    5    0        0 / 5\n",
       "9    10   5    0        0 / 24"
      ]
     },
     "metadata": {},
     "output_type": "display_data"
    },
    {
     "name": "stdout",
     "output_type": "stream",
     "text": [
      "Top-3 Hit Ratios: \n"
     ]
    },
    {
     "data": {
      "text/html": [
       "<div style=\"overflow:auto\"><table style=\"width:50%\"><tr><td><b>k</b></td>\n",
       "<td><b>hit_ratio</b></td></tr>\n",
       "<tr><td>1</td>\n",
       "<td>1.0</td></tr>\n",
       "<tr><td>2</td>\n",
       "<td>1.0</td></tr>\n",
       "<tr><td>3</td>\n",
       "<td>1.0</td></tr></table></div>"
      ],
      "text/plain": [
       "k    hit_ratio\n",
       "---  -----------\n",
       "1    1\n",
       "2    1\n",
       "3    1"
      ]
     },
     "metadata": {},
     "output_type": "display_data"
    },
    {
     "name": "stdout",
     "output_type": "stream",
     "text": [
      "\n"
     ]
    }
   ],
   "source": [
    "performance = rf.model_performance(test_data=test)\n",
    "print(performance)"
   ]
  },
  {
   "cell_type": "markdown",
   "metadata": {},
   "source": [
    "Vorhersagen auf Testdaten erhalten wir wieder mit der `predict` Funktion:"
   ]
  },
  {
   "cell_type": "code",
   "execution_count": 38,
   "metadata": {},
   "outputs": [
    {
     "name": "stdout",
     "output_type": "stream",
     "text": [
      "drf prediction progress: |████████████████████████████████████████████████| 100%\n"
     ]
    },
    {
     "data": {
      "text/html": [
       "<table>\n",
       "<thead>\n",
       "<tr><th style=\"text-align: right;\">  predict</th><th style=\"text-align: right;\">       p0</th><th style=\"text-align: right;\">       p1</th><th style=\"text-align: right;\">         p2</th></tr>\n",
       "</thead>\n",
       "<tbody>\n",
       "<tr><td style=\"text-align: right;\">        0</td><td style=\"text-align: right;\">0.942857 </td><td style=\"text-align: right;\">0.0560262</td><td style=\"text-align: right;\">0.00111662 </td></tr>\n",
       "<tr><td style=\"text-align: right;\">        0</td><td style=\"text-align: right;\">0.801387 </td><td style=\"text-align: right;\">0.0347439</td><td style=\"text-align: right;\">0.163869   </td></tr>\n",
       "<tr><td style=\"text-align: right;\">        0</td><td style=\"text-align: right;\">0.624113 </td><td style=\"text-align: right;\">0.375165 </td><td style=\"text-align: right;\">0.000721843</td></tr>\n",
       "<tr><td style=\"text-align: right;\">        0</td><td style=\"text-align: right;\">0.502701 </td><td style=\"text-align: right;\">0.496356 </td><td style=\"text-align: right;\">0.000942644</td></tr>\n",
       "<tr><td style=\"text-align: right;\">        0</td><td style=\"text-align: right;\">0.942857 </td><td style=\"text-align: right;\">0.0560262</td><td style=\"text-align: right;\">0.00111662 </td></tr>\n",
       "<tr><td style=\"text-align: right;\">        0</td><td style=\"text-align: right;\">0.624143 </td><td style=\"text-align: right;\">0.37516  </td><td style=\"text-align: right;\">0.00069741 </td></tr>\n",
       "<tr><td style=\"text-align: right;\">        0</td><td style=\"text-align: right;\">0.841725 </td><td style=\"text-align: right;\">0.0490624</td><td style=\"text-align: right;\">0.109213   </td></tr>\n",
       "<tr><td style=\"text-align: right;\">        0</td><td style=\"text-align: right;\">0.925722 </td><td style=\"text-align: right;\">0.0537214</td><td style=\"text-align: right;\">0.0205571  </td></tr>\n",
       "<tr><td style=\"text-align: right;\">        0</td><td style=\"text-align: right;\">0.84373  </td><td style=\"text-align: right;\">0.155242 </td><td style=\"text-align: right;\">0.00102766 </td></tr>\n",
       "<tr><td style=\"text-align: right;\">        1</td><td style=\"text-align: right;\">0.0741453</td><td style=\"text-align: right;\">0.916943 </td><td style=\"text-align: right;\">0.00891169 </td></tr>\n",
       "</tbody>\n",
       "</table>"
      ]
     },
     "metadata": {},
     "output_type": "display_data"
    },
    {
     "data": {
      "text/plain": []
     },
     "execution_count": 38,
     "metadata": {},
     "output_type": "execute_result"
    }
   ],
   "source": [
    "rf.predict(test)"
   ]
  }
 ],
 "metadata": {
  "kernelspec": {
   "display_name": "Python 3",
   "language": "python",
   "name": "python3"
  },
  "language_info": {
   "codemirror_mode": {
    "name": "ipython",
    "version": 3
   },
   "file_extension": ".py",
   "mimetype": "text/x-python",
   "name": "python",
   "nbconvert_exporter": "python",
   "pygments_lexer": "ipython3",
   "version": "3.6.8"
  }
 },
 "nbformat": 4,
 "nbformat_minor": 2
}
